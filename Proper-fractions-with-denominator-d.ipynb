{
 "cells": [
  {
   "cell_type": "code",
   "execution_count": 52,
   "metadata": {},
   "outputs": [],
   "source": [
    "# Compute Euler's totient function for n\n",
    "def proper_fractions(n):\n",
    "    # Edge cases\n",
    "    if n==1:\n",
    "        return 0\n",
    "    total = n\n",
    "    # Deal with 2 first so we can skip even factors\n",
    "    if n % 2 == 0:\n",
    "        total *= (1-1.0/2)\n",
    "        while(n % 2 == 0):\n",
    "            n /= 2\n",
    "    # Begin trying odd factors\n",
    "    p = 3\n",
    "    while(p**2 <= n):\n",
    "        if n % p == 0:\n",
    "            total *= (1 - 1.0/p)\n",
    "            while(n%p == 0):\n",
    "                n /= p\n",
    "        p += 2\n",
    "    # Deal with prime n\n",
    "    if n > 1:\n",
    "        total *= (1- 1.0/n)\n",
    "    return int(total)"
   ]
  }
 ],
 "metadata": {
  "kernelspec": {
   "display_name": "Python 3",
   "language": "python",
   "name": "python3"
  },
  "language_info": {
   "codemirror_mode": {
    "name": "ipython",
    "version": 3
   },
   "file_extension": ".py",
   "mimetype": "text/x-python",
   "name": "python",
   "nbconvert_exporter": "python",
   "pygments_lexer": "ipython3",
   "version": "3.6.4"
  },
  "varInspector": {
   "cols": {
    "lenName": 16,
    "lenType": 16,
    "lenVar": 40
   },
   "kernels_config": {
    "python": {
     "delete_cmd_postfix": "",
     "delete_cmd_prefix": "del ",
     "library": "var_list.py",
     "varRefreshCmd": "print(var_dic_list())"
    },
    "r": {
     "delete_cmd_postfix": ") ",
     "delete_cmd_prefix": "rm(",
     "library": "var_list.r",
     "varRefreshCmd": "cat(var_dic_list()) "
    }
   },
   "types_to_exclude": [
    "module",
    "function",
    "builtin_function_or_method",
    "instance",
    "_Feature"
   ],
   "window_display": false
  }
 },
 "nbformat": 4,
 "nbformat_minor": 2
}
