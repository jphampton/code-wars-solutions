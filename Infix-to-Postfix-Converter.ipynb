{
 "cells": [
  {
   "cell_type": "code",
   "execution_count": 13,
   "metadata": {},
   "outputs": [],
   "source": [
    "# Infix-to-postfix translator.  \n",
    "# First recursively build a list of postfix-expressions and operators.  \n",
    "# Then use a stack to render the list in correct postfix notation.\n",
    "def to_postfix (infix):\n",
    "    ops = ['^','*','/','+','-']\n",
    "    infix_list = []\n",
    "    index = 0\n",
    "    while index < len(infix):\n",
    "        expr = \"\"\n",
    "        if infix[index] == '(':\n",
    "            left_index = index\n",
    "            left_count = 1\n",
    "            while left_count>0:\n",
    "                if infix[index+1] == '(':\n",
    "                    left_count += 1 \n",
    "                elif infix[index+1] == ')':\n",
    "                    left_count -= 1\n",
    "                index +=1\n",
    "            expr = infix[left_index+1:index]\n",
    "        else:\n",
    "            expr = infix[index]\n",
    "        index +=1\n",
    "        infix_list.append(expr)\n",
    "    if len(infix_list)==1:\n",
    "        return infix_list[0]   \n",
    "    postfix = [to_postfix(expr) for expr in infix_list]    \n",
    "    stack = []\n",
    "    index = 0\n",
    "    while index < len(postfix):\n",
    "        rev_idx = len(postfix)-1-index\n",
    "        rev_expr = postfix[rev_idx]\n",
    "        if not rev_expr == \"^\":\n",
    "            stack.insert(0,rev_expr)\n",
    "        else:\n",
    "            stack[0] = postfix[rev_idx-1] + stack[0] + rev_expr\n",
    "            index+=1\n",
    "        index +=1\n",
    "    postfix = [item for item in stack]\n",
    "    stack = []\n",
    "    index = 0\n",
    "    while index < len(postfix):\n",
    "        expr = postfix[index]\n",
    "        if not expr in ['*', '/']:\n",
    "            stack.append(expr)\n",
    "        else:\n",
    "            stack[-1] = stack[-1] + postfix[index+1] + expr\n",
    "            index+=1\n",
    "        index+=1\n",
    "    postfix=[item for item in stack]\n",
    "    stack = []\n",
    "    index=0\n",
    "    while index < len(postfix):\n",
    "        expr = postfix[index]\n",
    "        if not expr in ['+', '-']:\n",
    "            stack.append(expr)\n",
    "        else:\n",
    "            stack[-1] = stack[-1] + postfix[index+1] + expr\n",
    "            index+=1\n",
    "        index+=1\n",
    "    return stack[0]"
   ]
  },
  {
   "cell_type": "code",
   "execution_count": 20,
   "metadata": {},
   "outputs": [
    {
     "data": {
      "text/plain": [
       "'23+'"
      ]
     },
     "execution_count": 20,
     "metadata": {},
     "output_type": "execute_result"
    }
   ],
   "source": [
    "# Some test cases\n",
    "to_postfix(\"2+3\")"
   ]
  },
  {
   "cell_type": "code",
   "execution_count": 21,
   "metadata": {},
   "outputs": [
    {
     "data": {
      "text/plain": [
       "'46*3-'"
      ]
     },
     "execution_count": 21,
     "metadata": {},
     "output_type": "execute_result"
    }
   ],
   "source": [
    "to_postfix(\"4*6-3\")"
   ]
  },
  {
   "cell_type": "code",
   "execution_count": 22,
   "metadata": {},
   "outputs": [
    {
     "data": {
      "text/plain": [
       "'462+-'"
      ]
     },
     "execution_count": 22,
     "metadata": {},
     "output_type": "execute_result"
    }
   ],
   "source": [
    "to_postfix(\"4-(6+2)\")"
   ]
  },
  {
   "cell_type": "code",
   "execution_count": 23,
   "metadata": {},
   "outputs": [
    {
     "data": {
      "text/plain": [
       "'2224234+*-^^^'"
      ]
     },
     "execution_count": 23,
     "metadata": {},
     "output_type": "execute_result"
    }
   ],
   "source": [
    "to_postfix(\"2^2^2^(4-2*(3+4))\")"
   ]
  },
  {
   "cell_type": "code",
   "execution_count": 4,
   "metadata": {},
   "outputs": [
    {
     "data": {
      "text/plain": [
       "'2423^4-*^'"
      ]
     },
     "execution_count": 4,
     "metadata": {},
     "output_type": "execute_result"
    }
   ],
   "source": [
    "LEFT = lambda a,b: a>=b\n",
    "RIGHT = lambda a,b: a>b\n",
    "PREC = {'+': 2, '-': 2, '*': 3, '/': 3, '^': 4, '(': 1, ')': 1}\n",
    "OP_ASSOCIATION = {'+': LEFT, '-': LEFT, '*': LEFT, '/': LEFT, '^': RIGHT}\n",
    "\n",
    "def to_postfix (infix):\n",
    "    postfix = []\n",
    "    stack = []\n",
    "    for ch in infix:\n",
    "        prec = PREC.get(ch, 0)\n",
    "        if prec == 0:\n",
    "            postfix.append(ch)\n",
    "        elif ch in '(':\n",
    "            stack.append(ch)\n",
    "        elif ch in ')':\n",
    "            while stack[-1] != '(':\n",
    "                postfix.append(stack.pop())\n",
    "            stack.pop()\n",
    "        else:\n",
    "            while stack and OP_ASSOCIATION[ch](PREC[stack[-1]], prec):\n",
    "                postfix.append(stack.pop())\n",
    "            stack.append(ch)\n",
    "        \n",
    "    return ''.join(postfix + stack[::-1])\n",
    "to_postfix('2^(4*(2^3-4))')"
   ]
  },
  {
   "cell_type": "code",
   "execution_count": null,
   "metadata": {},
   "outputs": [],
   "source": []
  }
 ],
 "metadata": {
  "kernelspec": {
   "display_name": "Python 3",
   "language": "python",
   "name": "python3"
  },
  "language_info": {
   "codemirror_mode": {
    "name": "ipython",
    "version": 3
   },
   "file_extension": ".py",
   "mimetype": "text/x-python",
   "name": "python",
   "nbconvert_exporter": "python",
   "pygments_lexer": "ipython3",
   "version": "3.6.4"
  }
 },
 "nbformat": 4,
 "nbformat_minor": 2
}
