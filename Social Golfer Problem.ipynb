{
 "cells": [
  {
   "cell_type": "code",
   "execution_count": null,
   "metadata": {},
   "outputs": [],
   "source": [
    "def valid(a):\n",
    "    golfers_by_row = [\"\".join(sorted(\"\".join(row))) for row in a]\n",
    "    all_unique = all([len(set(row)) == len(row) for row in golfers_by_row])\n",
    "    golfers = set(golfers_by_row[0])\n",
    "    if not len(set(golfers_by_row))==1:\n",
    "        print('First!')\n",
    "        return False\n",
    "    else:\n",
    "        gamesizes = set([ len(game) for row in a for game in row])\n",
    "        if not len(gamesizes)==1:\n",
    "            print('Second!')\n",
    "            return False\n",
    "        else:\n",
    "            number_of_games = [len(row) for row in a]\n",
    "            if not len(set(number_of_games))==1:\n",
    "                print(\"Third!\")\n",
    "                return False\n",
    "            else:\n",
    "                for player in golfers:\n",
    "                    seen = {golfer:False for golfer in golfers}\n",
    "                    for row in a:\n",
    "                        for game in row:\n",
    "                            if player in game:\n",
    "                                for other_player in game:\n",
    "                                    if not other_player==player:\n",
    "                                        if seen[other_player]:\n",
    "                                            print('Fourth!')\n",
    "                                            return False\n",
    "                                        else:\n",
    "                                            seen[other_player] = True\n",
    "            return True"
   ]
  }
 ],
 "metadata": {
  "kernelspec": {
   "display_name": "Python 3",
   "language": "python",
   "name": "python3"
  },
  "language_info": {
   "codemirror_mode": {
    "name": "ipython",
    "version": 3
   },
   "file_extension": ".py",
   "mimetype": "text/x-python",
   "name": "python",
   "nbconvert_exporter": "python",
   "pygments_lexer": "ipython3",
   "version": "3.6.4"
  }
 },
 "nbformat": 4,
 "nbformat_minor": 2
}
