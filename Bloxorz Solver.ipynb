{
 "cells": [
  {
   "cell_type": "code",
   "execution_count": 158,
   "metadata": {},
   "outputs": [],
   "source": [
    "# Example game board\n",
    "ar = ['1110000000',\n",
    " '1B11110000',\n",
    " '1111111110',\n",
    " '0111111111',\n",
    " '0000011X11',\n",
    " '0000001110']"
   ]
  },
  {
   "cell_type": "code",
   "execution_count": 159,
   "metadata": {},
   "outputs": [],
   "source": [
    "def blox_solver(ar):\n",
    "    height = len(ar)\n",
    "    width = len(ar[0])\n",
    "    start = [(i,j,0) for i in range(height) for j in range(width) if ar[i][j]=='B'][0]\n",
    "    finish = [(i,j,0) for i in range(height) for j in range(width) if ar[i][j]=='X'][0]\n",
    "\n",
    "    def is_legal_position(i,j,k):\n",
    "        if k==0:\n",
    "            return ar[i][j] in ['1','B','X']\n",
    "        if k==1:\n",
    "            return i - 1 >= 0 and ar[i][j] in ['1','B','X'] and ar[i-1][j] in ['1','B','X']\n",
    "        if k==2:\n",
    "            return j + 1 < width and ar[i][j] in ['1','B','X'] and ar[i][j+1] in ['1','B','X']\n",
    "\n",
    "    movelist = {(i,j,k):\"\" for i in range(height) for j in range(width) for k in range(3) if is_legal_position(i,j,k)}\n",
    "\n",
    "    # permissible values for o: 0 for Upright, 1 for North, 2 for East\n",
    "    def get_neighbors(i,j,o):\n",
    "        if o==0:\n",
    "            neighbors = {(i+2,j,1):'U',(i,j-2,2):'R',(i-1,j,1):'D',(i,j+1,2):'L'}\n",
    "        elif o==1:\n",
    "            neighbors = {(i+1,j,0):'U',(i-2,j,0):'D',(i,j-1,1):'R',(i,j+1,1):'L'}\n",
    "        elif o==2:\n",
    "            neighbors = {(i-1,j,2):'D',(i+1,j,2):'U',(i,j-1,0):'R',(i,j+2,0):'L'}\n",
    "        neighbors = {key:val for key,val in neighbors.items() if key in movelist.keys()}\n",
    "        return neighbors\n",
    "\n",
    "    # Populate the movelist with short-path traversing moves\n",
    "    current = finish\n",
    "    queue = [current]\n",
    "    while(True):\n",
    "        current = queue.pop(0)\n",
    "        if current == start:\n",
    "            break\n",
    "        for neighbor, direction in get_neighbors(*current).items():\n",
    "            if movelist[neighbor] == '':\n",
    "                movelist[neighbor] = direction\n",
    "                queue.append(neighbor)\n",
    "\n",
    "    reverse = {'U':'D','D':'U','L':'R','R':'L'}\n",
    "\n",
    "    moves = []\n",
    "    current = start\n",
    "    while(True):\n",
    "        move = movelist[current]\n",
    "        moves.append(move)\n",
    "        for neighbor, n_move in get_neighbors(*current).items():\n",
    "            if neighbor == finish:\n",
    "                return \"\".join(moves)\n",
    "            if reverse[n_move] == move:\n",
    "                current = neighbor"
   ]
  },
  {
   "cell_type": "code",
   "execution_count": 161,
   "metadata": {},
   "outputs": [
    {
     "data": {
      "text/plain": [
       "'RDRRDDR'"
      ]
     },
     "execution_count": 161,
     "metadata": {},
     "output_type": "execute_result"
    }
   ],
   "source": [
    "blox_solver(ar)"
   ]
  },
  {
   "cell_type": "code",
   "execution_count": null,
   "metadata": {},
   "outputs": [],
   "source": []
  }
 ],
 "metadata": {
  "kernelspec": {
   "display_name": "Python 3",
   "language": "python",
   "name": "python3"
  },
  "language_info": {
   "codemirror_mode": {
    "name": "ipython",
    "version": 3
   },
   "file_extension": ".py",
   "mimetype": "text/x-python",
   "name": "python",
   "nbconvert_exporter": "python",
   "pygments_lexer": "ipython3",
   "version": "3.6.4"
  },
  "varInspector": {
   "cols": {
    "lenName": 16,
    "lenType": 16,
    "lenVar": 40
   },
   "kernels_config": {
    "python": {
     "delete_cmd_postfix": "",
     "delete_cmd_prefix": "del ",
     "library": "var_list.py",
     "varRefreshCmd": "print(var_dic_list())"
    },
    "r": {
     "delete_cmd_postfix": ") ",
     "delete_cmd_prefix": "rm(",
     "library": "var_list.r",
     "varRefreshCmd": "cat(var_dic_list()) "
    }
   },
   "types_to_exclude": [
    "module",
    "function",
    "builtin_function_or_method",
    "instance",
    "_Feature"
   ],
   "window_display": false
  }
 },
 "nbformat": 4,
 "nbformat_minor": 2
}
