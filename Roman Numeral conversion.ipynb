{
 "cells": [
  {
   "cell_type": "code",
   "execution_count": 24,
   "metadata": {},
   "outputs": [],
   "source": [
    "def to_decimal(roman_numeral_as_string):\n",
    "    rn = {'M':1000,'D':500, 'C':100,'L':50,'X':10,'V':5, 'I':1}\n",
    "    x = list(roman_numeral_as_string)\n",
    "    total = 0\n",
    "    while x:\n",
    "        if len(x) == 1 or rn[x[-2]] >= rn[x[-1]]:\n",
    "            total += rn[x.pop()]\n",
    "        else:\n",
    "            total+= rn[x.pop()]-rn[x.pop()]\n",
    "    return total"
   ]
  }
 ],
 "metadata": {
  "kernelspec": {
   "display_name": "Python 3",
   "language": "python",
   "name": "python3"
  },
  "language_info": {
   "codemirror_mode": {
    "name": "ipython",
    "version": 3
   },
   "file_extension": ".py",
   "mimetype": "text/x-python",
   "name": "python",
   "nbconvert_exporter": "python",
   "pygments_lexer": "ipython3",
   "version": "3.6.4"
  }
 },
 "nbformat": 4,
 "nbformat_minor": 2
}
