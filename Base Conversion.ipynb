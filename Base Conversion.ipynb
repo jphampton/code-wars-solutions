{
 "cells": [
  {
   "cell_type": "code",
   "execution_count": 97,
   "metadata": {},
   "outputs": [],
   "source": [
    "import math\n",
    "def convert(number, from_base, to_base):\n",
    "    from_dict = {char: idx for idx, char in enumerate(from_base)}\n",
    "    from_size = len(from_base)\n",
    "    to_base_dict = {idx:char for idx, char in enumerate(to_base)}\n",
    "    num = [(from_dict[char], len(number) - 1 - idx) for idx, char in enumerate(number) if not from_dict[char]==0]\n",
    "    if num == []:\n",
    "        return to_base[0]\n",
    "    result = sum([a*from_size**b for (a,b) in num])\n",
    "    num_dict = {}\n",
    "    while result > 0:\n",
    "        n = math.floor(math.log(result, len(to_base)))\n",
    "        num_dict[n] = to_base_dict[result // (len(to_base)**n)]\n",
    "        result = result % (len(to_base)**n)\n",
    "    m = max(num_dict.keys())\n",
    "    final = [num_dict.get(idx,to_base[0]) for idx in range(m,-1,-1)]\n",
    "    return \"\".join(final)    "
   ]
  }
 ],
 "metadata": {
  "kernelspec": {
   "display_name": "Python 3",
   "language": "python",
   "name": "python3"
  },
  "language_info": {
   "codemirror_mode": {
    "name": "ipython",
    "version": 3
   },
   "file_extension": ".py",
   "mimetype": "text/x-python",
   "name": "python",
   "nbconvert_exporter": "python",
   "pygments_lexer": "ipython3",
   "version": "3.6.4"
  }
 },
 "nbformat": 4,
 "nbformat_minor": 2
}
